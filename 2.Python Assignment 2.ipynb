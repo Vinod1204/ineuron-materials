{
 "cells": [
  {
   "cell_type": "code",
   "execution_count": 1,
   "id": "243db728",
   "metadata": {},
   "outputs": [],
   "source": [
    "#1. Create the below pattern using nested for loop in Python."
   ]
  },
  {
   "cell_type": "code",
   "execution_count": 2,
   "id": "6b5f9a46",
   "metadata": {},
   "outputs": [
    {
     "name": "stdout",
     "output_type": "stream",
     "text": [
      "5\n",
      "*  \n",
      "* *  \n",
      "* * *  \n",
      "* * * *  \n",
      "* * * * *  \n",
      "* * * *  \n",
      "* * *  \n",
      "* *  \n",
      "*  \n",
      " \n"
     ]
    }
   ],
   "source": [
    "maxstar=int(input())\n",
    "for i in range(maxstar):\n",
    "    for j in range(i+1):\n",
    "        print(\"*\",end=\" \")\n",
    "    print(\" \")\n",
    "for i in range(maxstar):\n",
    "    for j in range(maxstar-(i+1)):\n",
    "        print(\"*\",end=\" \")\n",
    "    print(\" \")"
   ]
  },
  {
   "cell_type": "code",
   "execution_count": null,
   "id": "1d5ed7d6",
   "metadata": {},
   "outputs": [],
   "source": [
    "#2. Write a Python program to reverse a word after accepting the input from the user."
   ]
  },
  {
   "cell_type": "code",
   "execution_count": 5,
   "id": "badf74ce",
   "metadata": {},
   "outputs": [
    {
     "name": "stdout",
     "output_type": "stream",
     "text": [
      "Input word:ineuron\n",
      "Output: norueni\n"
     ]
    }
   ],
   "source": [
    "int_string=input(\"Input word:\")\n",
    "rev_string=int_string[::-1]\n",
    "print(\"Output:\",rev_string)"
   ]
  },
  {
   "cell_type": "code",
   "execution_count": null,
   "id": "45c639ad",
   "metadata": {},
   "outputs": [],
   "source": []
  }
 ],
 "metadata": {
  "kernelspec": {
   "display_name": "Python 3",
   "language": "python",
   "name": "python3"
  },
  "language_info": {
   "codemirror_mode": {
    "name": "ipython",
    "version": 3
   },
   "file_extension": ".py",
   "mimetype": "text/x-python",
   "name": "python",
   "nbconvert_exporter": "python",
   "pygments_lexer": "ipython3",
   "version": "3.8.8"
  }
 },
 "nbformat": 4,
 "nbformat_minor": 5
}
